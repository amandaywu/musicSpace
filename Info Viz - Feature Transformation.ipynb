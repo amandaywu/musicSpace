{
 "cells": [
  {
   "cell_type": "code",
   "execution_count": 2,
   "metadata": {},
   "outputs": [],
   "source": [
    "import pandas as pd\n",
    "import numpy as np\n",
    "import json"
   ]
  },
  {
   "cell_type": "code",
   "execution_count": 95,
   "metadata": {
    "scrolled": true
   },
   "outputs": [
    {
     "data": {
      "text/plain": [
       "Index(['Position', 'Track Name', 'Artist', 'Streams', 'URL', 'danceability',\n",
       "       'energy', 'key', 'loudness', 'mode', 'speechiness', 'acousticness',\n",
       "       'instrumentalness', 'liveness', 'valence', 'tempo', 'type', 'id', 'uri',\n",
       "       'track_href', 'analysis_url', 'duration_ms', 'time_signature',\n",
       "       'lyrics'],\n",
       "      dtype='object')"
      ]
     },
     "execution_count": 95,
     "metadata": {},
     "output_type": "execute_result"
    }
   ],
   "source": [
    "data = pd.read_csv(\"selected_tracks.csv\")\n",
    "songs = np.asarray(data['Track Name'])\n",
    "data.columns"
   ]
  },
  {
   "cell_type": "code",
   "execution_count": 77,
   "metadata": {},
   "outputs": [
    {
     "data": {
      "text/plain": [
       "array([1.864, 0.702, 1.414, 0.734, 1.028, 1.408, 1.588, 1.792, 1.606,\n",
       "       1.352, 1.308, 1.51 , 0.76 , 1.282])"
      ]
     },
     "execution_count": 77,
     "metadata": {},
     "output_type": "execute_result"
    }
   ],
   "source": [
    "#getting scores for danceability\n",
    "danceability = np.asarray(data['danceability'])\n",
    "daceablity_scale = danceability/0.5 #scaling it according to basline for the height of the jagged line\n",
    "daceablity_scale"
   ]
  },
  {
   "cell_type": "code",
   "execution_count": 26,
   "metadata": {},
   "outputs": [
    {
     "data": {
      "text/plain": [
       "array([1.007, 0.596, 1.255, 0.411, 1.03 , 0.525, 1.093, 0.886, 1.015,\n",
       "       0.909, 0.93 , 0.917, 0.519, 1.157])"
      ]
     },
     "execution_count": 26,
     "metadata": {},
     "output_type": "execute_result"
    }
   ],
   "source": [
    "#getting opacity percentage for energy\n",
    "energy = np.asarray(data['energy'])\n",
    "opacity_baseline = 0.3\n",
    "adjusted_opacity = energy+opacity_baseline #setting opacity of entire picture\n",
    "adjusted_opacity"
   ]
  },
  {
   "cell_type": "code",
   "execution_count": 142,
   "metadata": {},
   "outputs": [
    {
     "data": {
      "text/plain": [
       "array([1., 1., 1., 1., 1., 1., 1., 1., 1., 2., 1., 1., 1., 1.])"
      ]
     },
     "execution_count": 142,
     "metadata": {},
     "output_type": "execute_result"
    }
   ],
   "source": [
    "#getting cloud level for speechiness\n",
    "speechiness = np.asarray(data['speechiness'])\n",
    "cloud_level = np.zeros(len(speechiness)) #determining how much cloud to display\n",
    "for i in range(len(speechiness)):\n",
    "    if speechiness[i]<=0.33:\n",
    "        cloud_level[i] = 1\n",
    "    elif 0.33<speechiness[i]<=0.66:\n",
    "        cloud_level[i] = 2\n",
    "    else:\n",
    "        cloud_level[i] = 3\n",
    "cloud_level"
   ]
  },
  {
   "cell_type": "code",
   "execution_count": 84,
   "metadata": {},
   "outputs": [
    {
     "data": {
      "text/plain": [
       "array([ 9.,  1.,  9.,  1., 10.,  1., 10.,  9.,  8., 10.,  9., 10.,  1.,\n",
       "       10.])"
      ]
     },
     "execution_count": 84,
     "metadata": {},
     "output_type": "execute_result"
    }
   ],
   "source": [
    "#getting number of lines for acousticness, if under 0.1 then 0 lines\n",
    "acousticness = np.asarray(data['acousticness'])\n",
    "number_of_lines = np.zeros(len(acousticness))\n",
    "for i in range(len(acousticness)):\n",
    "    number_dec = str(acousticness[i]-int(acousticness[i])).split('.')[1][0]\n",
    "    number_of_lines[i] = int(number_dec)\n",
    "number_of_lines = 10-number_of_lines\n",
    "number_of_lines"
   ]
  },
  {
   "cell_type": "code",
   "execution_count": 177,
   "metadata": {},
   "outputs": [
    {
     "data": {
      "text/plain": [
       "array([150.      , 150.      , 150.      , 149.994045, 149.98569 ,\n",
       "        51.45    , 150.      , 150.      , 149.9799  , 150.      ,\n",
       "       150.      , 150.      , 148.44    , 149.199   ])"
      ]
     },
     "execution_count": 177,
     "metadata": {},
     "output_type": "execute_result"
    }
   ],
   "source": [
    "#getting radius for instrumentalness\n",
    "instrumentalness = np.asarray(data['instrumentalness'])\n",
    "max_radius = 150 #diamiter when instrumentalness is 0\n",
    "min_radius = 2 #diamiter when instrumentalness is 1\n",
    "radius = (1-instrumentalness)*max_radius #getting radius to determine the size of the sun/moon\n",
    "radius"
   ]
  },
  {
   "cell_type": "code",
   "execution_count": 99,
   "metadata": {},
   "outputs": [
    {
     "data": {
      "text/plain": [
       "array([0.345 , 0.095 , 0.202 , 0.0897, 0.0897, 0.106 , 0.0952, 0.79  ,\n",
       "       0.0574, 0.152 , 0.111 , 0.0625, 0.0827, 0.0695])"
      ]
     },
     "execution_count": 99,
     "metadata": {},
     "output_type": "execute_result"
    }
   ],
   "source": [
    "#getting scale for liveness\n",
    "liveness = np.asarray(data['liveness'])\n",
    "liveness"
   ]
  },
  {
   "cell_type": "code",
   "execution_count": 98,
   "metadata": {},
   "outputs": [
    {
     "data": {
      "text/plain": [
       "array([0.69  , 0.19  , 0.404 , 0.1794, 0.1794, 0.212 , 0.1904, 1.58  ,\n",
       "       0.1148, 0.304 , 0.222 , 0.125 , 0.1654, 0.139 ])"
      ]
     },
     "execution_count": 98,
     "metadata": {},
     "output_type": "execute_result"
    }
   ],
   "source": [
    "liveness_scale = liveness/0.5 #scale for the green mountains based on baseline\n",
    "liveness_scale"
   ]
  },
  {
   "cell_type": "code",
   "execution_count": 122,
   "metadata": {},
   "outputs": [],
   "source": [
    "#getting color gradient for valence\n",
    "valence = np.asarray(data['valence'])\n",
    "valence_adjusted = valence*100"
   ]
  },
  {
   "cell_type": "code",
   "execution_count": 133,
   "metadata": {},
   "outputs": [
    {
     "data": {
      "text/plain": [
       "array([73.1 , 62.  , 92.5 , 69.8 , 83.4 , 74.3 , 82.3 , 85.8 , 92.6 ,\n",
       "       99.2 , 93.  , 75.5 , 55.17, 53.9 ])"
      ]
     },
     "execution_count": 133,
     "metadata": {},
     "output_type": "execute_result"
    }
   ],
   "source": [
    "offsets = 100-np.absolute(50-valence*100)\n",
    "offsets"
   ]
  },
  {
   "cell_type": "code",
   "execution_count": 139,
   "metadata": {},
   "outputs": [
    {
     "data": {
      "text/plain": [
       "array([119.988, 115.284, 125.989,  82.642, 171.005, 120.006, 123.941,\n",
       "       116.971, 101.085, 142.037,  89.991, 193.896,  73.537, 122.728])"
      ]
     },
     "execution_count": 139,
     "metadata": {},
     "output_type": "execute_result"
    }
   ],
   "source": [
    "#getting set of waves for tempo\n",
    "tempo = np.asarray(data['tempo'])\n",
    "tempo"
   ]
  },
  {
   "cell_type": "code",
   "execution_count": 138,
   "metadata": {},
   "outputs": [
    {
     "data": {
      "text/plain": [
       "array([2., 2., 4., 2., 4., 4., 4., 2., 2., 4., 2., 4., 2., 4.])"
      ]
     },
     "execution_count": 138,
     "metadata": {},
     "output_type": "execute_result"
    }
   ],
   "source": [
    "number_of_waves = np.zeros(len(tempo))\n",
    "for i in range(len(tempo)):\n",
    "    if tempo[i]<=60:\n",
    "        number_of_waves[i] = 1\n",
    "    elif 60<tempo[i]<=120:\n",
    "        number_of_waves[i] = 2\n",
    "    elif 120<tempo[i]<=180:\n",
    "        number_of_waves[i] = 4\n",
    "    else:\n",
    "        number_of_waves[i] = 4\n",
    "number_of_waves"
   ]
  },
  {
   "cell_type": "code",
   "execution_count": 140,
   "metadata": {},
   "outputs": [
    {
     "data": {
      "text/plain": [
       "array([0, 0, 0, 1, 1, 0, 0, 0, 1, 0, 1, 1, 0, 0])"
      ]
     },
     "execution_count": 140,
     "metadata": {},
     "output_type": "execute_result"
    }
   ],
   "source": [
    "#getting mode\n",
    "mode = np.asarray(data['mode'])\n",
    "mode"
   ]
  },
  {
   "cell_type": "code",
   "execution_count": 178,
   "metadata": {},
   "outputs": [],
   "source": [
    "d = {'songs': songs,'daceablity_scale': daceablity_scale,'adjusted_opacity': adjusted_opacity,\n",
    "     'cloud_level': cloud_level,'number_of_lines': number_of_lines,'radius': radius,'liveness_scale': liveness_scale,\n",
    "     'offsets': offsets,'number_of_waves': number_of_waves,'mode': mode}"
   ]
  },
  {
   "cell_type": "code",
   "execution_count": 179,
   "metadata": {},
   "outputs": [],
   "source": [
    "df = pd.DataFrame(data=d)"
   ]
  },
  {
   "cell_type": "code",
   "execution_count": 180,
   "metadata": {},
   "outputs": [
    {
     "data": {
      "text/html": [
       "<div>\n",
       "<style scoped>\n",
       "    .dataframe tbody tr th:only-of-type {\n",
       "        vertical-align: middle;\n",
       "    }\n",
       "\n",
       "    .dataframe tbody tr th {\n",
       "        vertical-align: top;\n",
       "    }\n",
       "\n",
       "    .dataframe thead th {\n",
       "        text-align: right;\n",
       "    }\n",
       "</style>\n",
       "<table border=\"1\" class=\"dataframe\">\n",
       "  <thead>\n",
       "    <tr style=\"text-align: right;\">\n",
       "      <th></th>\n",
       "      <th>songs</th>\n",
       "      <th>daceablity_scale</th>\n",
       "      <th>adjusted_opacity</th>\n",
       "      <th>cloud_level</th>\n",
       "      <th>number_of_lines</th>\n",
       "      <th>radius</th>\n",
       "      <th>liveness_scale</th>\n",
       "      <th>offsets</th>\n",
       "      <th>number_of_waves</th>\n",
       "      <th>mode</th>\n",
       "    </tr>\n",
       "  </thead>\n",
       "  <tbody>\n",
       "    <tr>\n",
       "      <th>0</th>\n",
       "      <td>Broke In A Minute</td>\n",
       "      <td>1.864</td>\n",
       "      <td>1.007</td>\n",
       "      <td>1.0</td>\n",
       "      <td>9.0</td>\n",
       "      <td>150.000000</td>\n",
       "      <td>0.6900</td>\n",
       "      <td>73.10</td>\n",
       "      <td>2.0</td>\n",
       "      <td>0</td>\n",
       "    </tr>\n",
       "    <tr>\n",
       "      <th>1</th>\n",
       "      <td>lovely (with Khalid)</td>\n",
       "      <td>0.702</td>\n",
       "      <td>0.596</td>\n",
       "      <td>1.0</td>\n",
       "      <td>1.0</td>\n",
       "      <td>150.000000</td>\n",
       "      <td>0.1900</td>\n",
       "      <td>62.00</td>\n",
       "      <td>2.0</td>\n",
       "      <td>0</td>\n",
       "    </tr>\n",
       "    <tr>\n",
       "      <th>2</th>\n",
       "      <td>Boss Bitch</td>\n",
       "      <td>1.414</td>\n",
       "      <td>1.255</td>\n",
       "      <td>1.0</td>\n",
       "      <td>9.0</td>\n",
       "      <td>150.000000</td>\n",
       "      <td>0.4040</td>\n",
       "      <td>92.50</td>\n",
       "      <td>4.0</td>\n",
       "      <td>0</td>\n",
       "    </tr>\n",
       "    <tr>\n",
       "      <th>3</th>\n",
       "      <td>when the party's over</td>\n",
       "      <td>0.734</td>\n",
       "      <td>0.411</td>\n",
       "      <td>1.0</td>\n",
       "      <td>1.0</td>\n",
       "      <td>149.994045</td>\n",
       "      <td>0.1794</td>\n",
       "      <td>69.80</td>\n",
       "      <td>2.0</td>\n",
       "      <td>1</td>\n",
       "    </tr>\n",
       "    <tr>\n",
       "      <th>4</th>\n",
       "      <td>Blinding Lights</td>\n",
       "      <td>1.028</td>\n",
       "      <td>1.030</td>\n",
       "      <td>1.0</td>\n",
       "      <td>10.0</td>\n",
       "      <td>149.985690</td>\n",
       "      <td>0.1794</td>\n",
       "      <td>83.40</td>\n",
       "      <td>4.0</td>\n",
       "      <td>1</td>\n",
       "    </tr>\n",
       "    <tr>\n",
       "      <th>5</th>\n",
       "      <td>everything i wanted</td>\n",
       "      <td>1.408</td>\n",
       "      <td>0.525</td>\n",
       "      <td>1.0</td>\n",
       "      <td>1.0</td>\n",
       "      <td>51.450000</td>\n",
       "      <td>0.2120</td>\n",
       "      <td>74.30</td>\n",
       "      <td>4.0</td>\n",
       "      <td>0</td>\n",
       "    </tr>\n",
       "    <tr>\n",
       "      <th>6</th>\n",
       "      <td>Don't Start Now</td>\n",
       "      <td>1.588</td>\n",
       "      <td>1.093</td>\n",
       "      <td>1.0</td>\n",
       "      <td>10.0</td>\n",
       "      <td>150.000000</td>\n",
       "      <td>0.1904</td>\n",
       "      <td>82.30</td>\n",
       "      <td>4.0</td>\n",
       "      <td>0</td>\n",
       "    </tr>\n",
       "    <tr>\n",
       "      <th>7</th>\n",
       "      <td>The Box</td>\n",
       "      <td>1.792</td>\n",
       "      <td>0.886</td>\n",
       "      <td>1.0</td>\n",
       "      <td>9.0</td>\n",
       "      <td>150.000000</td>\n",
       "      <td>1.5800</td>\n",
       "      <td>85.80</td>\n",
       "      <td>2.0</td>\n",
       "      <td>0</td>\n",
       "    </tr>\n",
       "    <tr>\n",
       "      <th>8</th>\n",
       "      <td>Tusa</td>\n",
       "      <td>1.606</td>\n",
       "      <td>1.015</td>\n",
       "      <td>1.0</td>\n",
       "      <td>8.0</td>\n",
       "      <td>149.979900</td>\n",
       "      <td>0.1148</td>\n",
       "      <td>92.60</td>\n",
       "      <td>2.0</td>\n",
       "      <td>1</td>\n",
       "    </tr>\n",
       "    <tr>\n",
       "      <th>9</th>\n",
       "      <td>Life Is Good (feat. Drake)</td>\n",
       "      <td>1.352</td>\n",
       "      <td>0.909</td>\n",
       "      <td>2.0</td>\n",
       "      <td>10.0</td>\n",
       "      <td>150.000000</td>\n",
       "      <td>0.3040</td>\n",
       "      <td>99.20</td>\n",
       "      <td>4.0</td>\n",
       "      <td>0</td>\n",
       "    </tr>\n",
       "    <tr>\n",
       "      <th>10</th>\n",
       "      <td>10,000 Hours (with Justin Bieber)</td>\n",
       "      <td>1.308</td>\n",
       "      <td>0.930</td>\n",
       "      <td>1.0</td>\n",
       "      <td>9.0</td>\n",
       "      <td>150.000000</td>\n",
       "      <td>0.2220</td>\n",
       "      <td>93.00</td>\n",
       "      <td>2.0</td>\n",
       "      <td>1</td>\n",
       "    </tr>\n",
       "    <tr>\n",
       "      <th>11</th>\n",
       "      <td>Tattoo</td>\n",
       "      <td>1.510</td>\n",
       "      <td>0.917</td>\n",
       "      <td>1.0</td>\n",
       "      <td>10.0</td>\n",
       "      <td>150.000000</td>\n",
       "      <td>0.1250</td>\n",
       "      <td>75.50</td>\n",
       "      <td>4.0</td>\n",
       "      <td>1</td>\n",
       "    </tr>\n",
       "    <tr>\n",
       "      <th>12</th>\n",
       "      <td>No Time To Die</td>\n",
       "      <td>0.760</td>\n",
       "      <td>0.519</td>\n",
       "      <td>1.0</td>\n",
       "      <td>1.0</td>\n",
       "      <td>148.440000</td>\n",
       "      <td>0.1654</td>\n",
       "      <td>55.17</td>\n",
       "      <td>2.0</td>\n",
       "      <td>0</td>\n",
       "    </tr>\n",
       "    <tr>\n",
       "      <th>13</th>\n",
       "      <td>Amarillo</td>\n",
       "      <td>1.282</td>\n",
       "      <td>1.157</td>\n",
       "      <td>1.0</td>\n",
       "      <td>10.0</td>\n",
       "      <td>149.199000</td>\n",
       "      <td>0.1390</td>\n",
       "      <td>53.90</td>\n",
       "      <td>4.0</td>\n",
       "      <td>0</td>\n",
       "    </tr>\n",
       "  </tbody>\n",
       "</table>\n",
       "</div>"
      ],
      "text/plain": [
       "                                songs  daceablity_scale  adjusted_opacity  \\\n",
       "0                   Broke In A Minute             1.864             1.007   \n",
       "1                lovely (with Khalid)             0.702             0.596   \n",
       "2                          Boss Bitch             1.414             1.255   \n",
       "3               when the party's over             0.734             0.411   \n",
       "4                     Blinding Lights             1.028             1.030   \n",
       "5                 everything i wanted             1.408             0.525   \n",
       "6                     Don't Start Now             1.588             1.093   \n",
       "7                             The Box             1.792             0.886   \n",
       "8                                Tusa             1.606             1.015   \n",
       "9          Life Is Good (feat. Drake)             1.352             0.909   \n",
       "10  10,000 Hours (with Justin Bieber)             1.308             0.930   \n",
       "11                             Tattoo             1.510             0.917   \n",
       "12                     No Time To Die             0.760             0.519   \n",
       "13                           Amarillo             1.282             1.157   \n",
       "\n",
       "    cloud_level  number_of_lines      radius  liveness_scale  offsets  \\\n",
       "0           1.0              9.0  150.000000          0.6900    73.10   \n",
       "1           1.0              1.0  150.000000          0.1900    62.00   \n",
       "2           1.0              9.0  150.000000          0.4040    92.50   \n",
       "3           1.0              1.0  149.994045          0.1794    69.80   \n",
       "4           1.0             10.0  149.985690          0.1794    83.40   \n",
       "5           1.0              1.0   51.450000          0.2120    74.30   \n",
       "6           1.0             10.0  150.000000          0.1904    82.30   \n",
       "7           1.0              9.0  150.000000          1.5800    85.80   \n",
       "8           1.0              8.0  149.979900          0.1148    92.60   \n",
       "9           2.0             10.0  150.000000          0.3040    99.20   \n",
       "10          1.0              9.0  150.000000          0.2220    93.00   \n",
       "11          1.0             10.0  150.000000          0.1250    75.50   \n",
       "12          1.0              1.0  148.440000          0.1654    55.17   \n",
       "13          1.0             10.0  149.199000          0.1390    53.90   \n",
       "\n",
       "    number_of_waves  mode  \n",
       "0               2.0     0  \n",
       "1               2.0     0  \n",
       "2               4.0     0  \n",
       "3               2.0     1  \n",
       "4               4.0     1  \n",
       "5               4.0     0  \n",
       "6               4.0     0  \n",
       "7               2.0     0  \n",
       "8               2.0     1  \n",
       "9               4.0     0  \n",
       "10              2.0     1  \n",
       "11              4.0     1  \n",
       "12              2.0     0  \n",
       "13              4.0     0  "
      ]
     },
     "execution_count": 180,
     "metadata": {},
     "output_type": "execute_result"
    }
   ],
   "source": [
    "df"
   ]
  },
  {
   "cell_type": "code",
   "execution_count": 168,
   "metadata": {},
   "outputs": [],
   "source": [
    "df.to_csv (r'C:\\Users\\yuexitwang\\music_features.csv', index = False)"
   ]
  }
 ],
 "metadata": {
  "kernelspec": {
   "display_name": "Python 3",
   "language": "python",
   "name": "python3"
  },
  "language_info": {
   "codemirror_mode": {
    "name": "ipython",
    "version": 3
   },
   "file_extension": ".py",
   "mimetype": "text/x-python",
   "name": "python",
   "nbconvert_exporter": "python",
   "pygments_lexer": "ipython3",
   "version": "3.7.4"
  }
 },
 "nbformat": 4,
 "nbformat_minor": 2
}
